{
 "cells": [
  {
   "cell_type": "code",
   "execution_count": 4,
   "id": "85e05061",
   "metadata": {},
   "outputs": [
    {
     "name": "stdout",
     "output_type": "stream",
     "text": [
      "Data successfully saved to /Users/touqeergill/Desktop/2011/CompiledData.xlsx\n"
     ]
    }
   ],
   "source": [
    "# This code is partciularly design for the DMPS data\n",
    "\n",
    "\n",
    "\n",
    "\n",
    "\n",
    "import pandas as pd\n",
    "import os\n",
    "\n",
    "# Directory containing the .sum files\n",
    "directory = '/Users/touqeergill/Desktop/2011'\n",
    "\n",
    "# List to hold data from each file\n",
    "data_frames = []\n",
    "\n",
    "# Specify column names based on your headers\n",
    "# Replace the names list with the actual column names you have provided earlier\n",
    "column_names = [\n",
    "    '0.00E+00_1', '0.00E+00_2', '3.00E-09', '3.61E-09', '4.34E-09', '5.22E-09', '6.28E-09', '7.56E-09',\n",
    "    '9.10E-09', '1.09E-08', '1.32E-08', '1.58E-08', '1.91E-08', '2.32E-08', '2.68E-08', '3.09E-08',\n",
    "    '3.58E-08', '4.13E-08', '4.78E-08', '5.52E-08', '6.38E-08', '7.38E-08', '8.53E-08', '9.86E-08',\n",
    "    '1.14E-07', '1.32E-07', '1.52E-07', '1.76E-07', '2.03E-07', '2.35E-07', '2.72E-07', '3.14E-07',\n",
    "    '3.63E-07', '4.19E-07', '4.85E-07', '5.60E-07', '6.48E-07', '7.49E-07', '8.65E-07', '1.00E-06'\n",
    "]\n",
    "\n",
    "# Iterate over each file in the directory\n",
    "for filename in sorted(os.listdir(directory)):\n",
    "    if filename.endswith('.sum'):\n",
    "        file_path = os.path.join(directory, filename)\n",
    "        # Read file with space as delimiter and treat consecutive delimiters as one\n",
    "        df = pd.read_csv(file_path, delim_whitespace=True, header=None, names=column_names)\n",
    "        data_frames.append(df)\n",
    "\n",
    "# Concatenate all the data frames into a single data frame\n",
    "full_data = pd.concat(data_frames, ignore_index=True)\n",
    "\n",
    "# Specify the path and filename for the Excel file\n",
    "excel_file_path = '/Users/touqeergill/Desktop/2011/CompiledData.xlsx'\n",
    "\n",
    "# Save the DataFrame to an Excel file\n",
    "full_data.to_excel(excel_file_path, index=False, engine='openpyxl')\n",
    "\n",
    "# Confirmation message\n",
    "print(f'Data successfully saved to {excel_file_path}')"
   ]
  },
  {
   "cell_type": "code",
   "execution_count": 5,
   "id": "0ae76ac5",
   "metadata": {},
   "outputs": [
    {
     "name": "stdout",
     "output_type": "stream",
     "text": [
      "Dataset with updated dates saved to /Users/touqeergill/Desktop/Updated_2011_Dates.xlsx\n"
     ]
    }
   ],
   "source": [
    "import pandas as pd\n",
    "import numpy as np\n",
    "\n",
    "# Define the path to the Excel file\n",
    "file_path = '/Users/touqeergill/Desktop/2011.xlsx'\n",
    "\n",
    "# Load the data from the Excel file\n",
    "data = pd.read_excel(file_path)\n",
    "\n",
    "# Define the number of rows for which you want to generate date intervals\n",
    "total_rows = 51853  # Modify this number as needed\n",
    "\n",
    "# Set the start and end datetime for the entire year 2011\n",
    "start_datetime = pd.Timestamp('2011-01-01 00:00:00')\n",
    "end_datetime = pd.Timestamp('2011-12-31 23:50:00')\n",
    "\n",
    "# Calculate the total number of seconds in the year 2011\n",
    "total_seconds = (end_datetime - start_datetime).total_seconds()\n",
    "\n",
    "# Generate a date range that spans the entire year with the specified number of rows\n",
    "date_range = pd.date_range(start=start_datetime, end=end_datetime, periods=total_rows)\n",
    "\n",
    "# Truncate or extend the data frame to match the specified number of rows\n",
    "data = data.iloc[:total_rows] if len(data) >= total_rows else pd.concat([data] * (total_rows // len(data) + 1), ignore_index=True).iloc[:total_rows]\n",
    "\n",
    "# Assign the calculated date range to the DataFrame\n",
    "data['Date'] = date_range\n",
    "\n",
    "# Define the path to save the new Excel file\n",
    "output_path = '/Users/touqeergill/Desktop/Updated_2011_Dates.xlsx'\n",
    "\n",
    "# Save the updated dataset to a new Excel file\n",
    "data.to_excel(output_path, index=False)\n",
    "\n",
    "print(f'Dataset with updated dates saved to {output_path}')"
   ]
  },
  {
   "cell_type": "code",
   "execution_count": 6,
   "id": "f16b5bde",
   "metadata": {},
   "outputs": [
    {
     "name": "stdout",
     "output_type": "stream",
     "text": [
      "Hourly average data saved to /Users/touqeergill/Desktop/Hourly_Averages.xlsx\n"
     ]
    }
   ],
   "source": [
    "import pandas as pd\n",
    "import os\n",
    "\n",
    "# Define the file path and name\n",
    "file_path = '/Users/touqeergill/Desktop/DMPS_(2010_2022).xlsx'\n",
    "\n",
    "# Load the Excel file\n",
    "df = pd.read_excel(file_path)\n",
    "\n",
    "# Use the first column as the date column by position\n",
    "df.iloc[:, 0] = pd.to_datetime(df.iloc[:, 0])\n",
    "\n",
    "# Set the date column as the index\n",
    "df.set_index(df.columns[0], inplace=True)\n",
    "\n",
    "# Calculate the hourly average across columns B to AM\n",
    "hourly_average = df.resample('H').mean()\n",
    "\n",
    "# Save the result to a new Excel file\n",
    "output_file = os.path.join('/Users/touqeergill/Desktop', 'Hourly_Averages.xlsx')\n",
    "hourly_average.to_excel(output_file)\n",
    "\n",
    "print(f'Hourly average data saved to {output_file}')"
   ]
  },
  {
   "cell_type": "code",
   "execution_count": null,
   "id": "3913548f",
   "metadata": {},
   "outputs": [],
   "source": []
  }
 ],
 "metadata": {
  "kernelspec": {
   "display_name": "Python 3 (ipykernel)",
   "language": "python",
   "name": "python3"
  },
  "language_info": {
   "codemirror_mode": {
    "name": "ipython",
    "version": 3
   },
   "file_extension": ".py",
   "mimetype": "text/x-python",
   "name": "python",
   "nbconvert_exporter": "python",
   "pygments_lexer": "ipython3",
   "version": "3.9.13"
  }
 },
 "nbformat": 4,
 "nbformat_minor": 5
}
